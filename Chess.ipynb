{
 "cells": [
  {
   "cell_type": "markdown",
   "metadata": {},
   "source": [
    "# Chess"
   ]
  },
  {
   "cell_type": "markdown",
   "metadata": {},
   "source": [
    "### game.py\n",
    "Play a single game by choosing the players and perspective with the cell below and running game.py"
   ]
  },
  {
   "cell_type": "code",
   "execution_count": null,
   "metadata": {
    "scrolled": true
   },
   "outputs": [],
   "source": [
    "import ipywidgets as widgets\n",
    "from IPython.display import display\n",
    "\n",
    "w = widgets.Dropdown(options=[('Human', 'h'), ('AI', 'a'), ('Random', 'r'), ('Legacy AI', 'l')], value='h', description='White:')\n",
    "b = widgets.Dropdown(options=[('Human', 'h'), ('AI', 'a'), ('Random', 'r'), ('Legacy AI', 'l')], value='a', description='Black:')\n",
    "p = widgets.ToggleButtons(options=[('White', 'w'), ('Black', 'b')], description='Perspective:', disabled=False)\n",
    "\n",
    "display(w, b, p)"
   ]
  },
  {
   "cell_type": "code",
   "execution_count": null,
   "metadata": {
    "scrolled": false
   },
   "outputs": [],
   "source": [
    "%run game.py $w.value $b.value $p.value"
   ]
  },
  {
   "cell_type": "markdown",
   "metadata": {},
   "source": [
    "### tester.py\n",
    "Make the AI play multiple games against other versions of itself. Legacy AI is an older version of the newest AI."
   ]
  },
  {
   "cell_type": "code",
   "execution_count": null,
   "metadata": {
    "scrolled": true
   },
   "outputs": [],
   "source": [
    "import ipywidgets as widgets\n",
    "from IPython.display import display\n",
    "\n",
    "w = widgets.Dropdown(options=[('AI', 'a'), ('Random', 'r'), ('Legacy AI', 'l')], value='a', description='Player 1:')\n",
    "b = widgets.Dropdown(options=[('AI', 'a'), ('Random', 'r'), ('Legacy AI', 'l')], value='l', description='Player 2:')\n",
    "g = widgets.BoundedIntText(value=10, min=1, max=1000, description='Games:')\n",
    "\n",
    "display(w, b, g)"
   ]
  },
  {
   "cell_type": "code",
   "execution_count": null,
   "metadata": {},
   "outputs": [],
   "source": [
    "%run tester.py $w.value $b.value $g.value"
   ]
  }
 ],
 "metadata": {
  "kernelspec": {
   "display_name": "Python 3",
   "language": "python",
   "name": "python3"
  },
  "language_info": {
   "codemirror_mode": {
    "name": "ipython",
    "version": 3
   },
   "file_extension": ".py",
   "mimetype": "text/x-python",
   "name": "python",
   "nbconvert_exporter": "python",
   "pygments_lexer": "ipython3",
   "version": "3.8.5"
  }
 },
 "nbformat": 4,
 "nbformat_minor": 2
}
